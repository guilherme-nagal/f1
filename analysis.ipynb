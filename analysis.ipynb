{
 "cells": [
  {
   "cell_type": "code",
   "execution_count": 26,
   "id": "3345583d",
   "metadata": {},
   "outputs": [],
   "source": [
    "import sqlite3\n",
    "import pandas as pd"
   ]
  },
  {
   "cell_type": "code",
   "execution_count": 30,
   "id": "615ea482",
   "metadata": {},
   "outputs": [],
   "source": [
    "conn = sqlite3.connect('f1.sqlite3')\n",
    "\n",
    "df_circuits = pd.read_sql_query(\"SELECT * FROM circuits\", conn)\n",
    "df_constructor_results = pd.read_sql_query(\"SELECT * FROM constructor_results\", conn)\n",
    "df_constructor_standings = pd.read_sql_query(\"SELECT * FROM constructor_standings\", conn)\n",
    "df_constructors = pd.read_sql_query(\"SELECT * FROM constructors\", conn)\n",
    "df_driver_standings = pd.read_sql_query(\"SELECT * FROM driver_standings\", conn)\n",
    "df_drivers = pd.read_sql_query(\"SELECT * FROM drivers\", conn)\n",
    "df_lap_times = pd.read_sql_query(\"SELECT * FROM lap_times\", conn)\n",
    "df_qualifying = pd.read_sql_query(\"SELECT * FROM qualifying\", conn)\n",
    "df_races = pd.read_sql_query(\"SELECT * FROM races\", conn)\n",
    "df_results = pd.read_sql_query(\"SELECT * FROM results\", conn)\n",
    "df_seasons = pd.read_sql_query(\"SELECT * FROM seasons\", conn)\n",
    "df_sprint_results = pd.read_sql_query(\"SELECT * FROM sprint_results\", conn)\n",
    "df_status = pd.read_sql_query(\"SELECT * FROM status\", conn)\n",
    "\n",
    "conn.close()"
   ]
  }
 ],
 "metadata": {
  "kernelspec": {
   "display_name": "Python 3 (ipykernel)",
   "language": "python",
   "name": "python3"
  },
  "language_info": {
   "codemirror_mode": {
    "name": "ipython",
    "version": 3
   },
   "file_extension": ".py",
   "mimetype": "text/x-python",
   "name": "python",
   "nbconvert_exporter": "python",
   "pygments_lexer": "ipython3",
   "version": "3.11.5"
  }
 },
 "nbformat": 4,
 "nbformat_minor": 5
}
